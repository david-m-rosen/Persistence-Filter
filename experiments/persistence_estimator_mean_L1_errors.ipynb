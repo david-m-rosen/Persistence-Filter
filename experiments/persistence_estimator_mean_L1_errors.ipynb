{
 "cells": [
  {
   "cell_type": "markdown",
   "metadata": {},
   "source": [
    "Load up necessary libraries"
   ]
  },
  {
   "cell_type": "code",
   "execution_count": 1,
   "metadata": {
    "collapsed": false,
    "scrolled": false
   },
   "outputs": [],
   "source": [
    "#Persistence Filter files\n",
    "from libpython_persistence_filter import *\n",
    "from libpython_persistence_filter_utils import *\n",
    "from persistence_filter_test_utils import *\n",
    "\n",
    "#Python scientific computing stuffs\n",
    "from numpy import *\n",
    "from scipy.stats import *\n",
    "from matplotlib.pyplot import *\n",
    "from mpl_toolkits.mplot3d import Axes3D\n",
    "%matplotlib inline\n",
    "\n",
    "#Settings for rendering TeX in MATLAB\n",
    "rc('text', usetex=True)\n",
    "\n",
    "#Plotting options\n",
    "fig_scaling = .5  #Scaling factor for figures\n",
    "figure_size = (fig_scaling * 8.0, fig_scaling*6.0)  #Figure size, in inches\n",
    "figure_folder = 'figures/'  #The folder in which to save the output\n"
   ]
  },
  {
   "cell_type": "markdown",
   "metadata": {},
   "source": [
    "Configure simulation options"
   ]
  },
  {
   "cell_type": "code",
   "execution_count": 2,
   "metadata": {
    "collapsed": true,
    "scrolled": false
   },
   "outputs": [],
   "source": [
    "#PERSISTENCE FILTER SETTINGS\n",
    "#Admissible range of lambdas for use with general-purpose prior\n",
    "lambda_u = 1\n",
    "lambda_l = .001\n",
    "\n",
    "#General-purpose prior log-survival time\n",
    "gp_logS = lambda x : log_general_purpose_survival_function(x, lambda_l, lambda_u)\n",
    "\n",
    "#Uniform prior log-survival time\n",
    "simulation_length = 1000 #Length of simulation in seconds\n",
    "uniform_logS = lambda x : asscalar(where(logical_and(0<= x, x <= simulation_length), \n",
    "                                log(subtract(1.0, (1.0 / simulation_length)*x)), 0.0))"
   ]
  },
  {
   "cell_type": "code",
   "execution_count": 3,
   "metadata": {
    "collapsed": false,
    "scrolled": false
   },
   "outputs": [],
   "source": [
    "#DATA GENERATION SETTINGS\n",
    "\n",
    "\n",
    "#\"Standard\" simulation settings\n",
    "P_M_standard = .1  #Standard missed detection probability\n",
    "P_F_standard = .1 #Standard false alarm probability\n",
    "lambda_r_standard = 1.0 / 50.0  #Standard revisitation rate\n",
    "lambda_o = 1.0  #Inter-observation rate\n",
    "p_N = 1.0 / 5.0  #p_N = probability of leaving after the last reobservation; expected # observations N = 1 / p_N\n",
    "\n",
    "\n",
    "#Sets of parameter settings to test\n",
    "\n",
    "#Sets of error rates to test\n",
    "P_M_test = [.01, .05, .1, .15, .20, .25, .30, .35, .40]\n",
    "P_F_test = [.01, .05, .1, .15, .20, .25, .30, .35, .40]\n",
    "\n",
    "#Sets of revisitation rates to test\n",
    "lambda_r_test = [1. / 100., 1. / 50., 1. / 25., 1. / 10., 1. / 5.]\n",
    "\n",
    "num_instances_per_setting = 100  #Number of Monte Carlo samples to draw for each parameter setting\n",
    "\n",
    "\n",
    "#The set of times to query the belief of the persistence filter\n",
    "query_times = arange(0, simulation_length, .1)"
   ]
  },
  {
   "cell_type": "markdown",
   "metadata": {},
   "source": [
    "TEST #1:  Varying the detector error rates, evaluating using average L1 error"
   ]
  },
  {
   "cell_type": "code",
   "execution_count": 4,
   "metadata": {
    "collapsed": false,
    "scrolled": false
   },
   "outputs": [
    {
     "name": "stdout",
     "output_type": "stream",
     "text": [
      "CPU times: user 24min 35s, sys: 571 ms, total: 24min 36s\n",
      "Wall time: 24min 35s\n"
     ]
    }
   ],
   "source": [
    "%%time\n",
    "\n",
    "#Allocate output storage array\n",
    "gp_persistence_filter_detector_avg_MAE_errors = empty((len(P_M_test), len(P_F_test)))\n",
    "uniform_persistence_filter_detector_avg_MAE_errors = empty((len(P_M_test), len(P_F_test)))\n",
    "empirical_estimator_detector_avg_MAE_errors = empty((len(P_M_test), len(P_F_test)))\n",
    "\n",
    "gp_persistence_filter_instance_errors = empty(num_instances_per_setting)\n",
    "uniform_persistence_filter_instance_errors = empty(num_instances_per_setting)\n",
    "empirical_estimator_instance_errors = empty(num_instances_per_setting)\n",
    "\n",
    "for i in range(len(P_M_test)):\n",
    "    P_M = P_M_test[i]\n",
    "    for j in range(len(P_F_test)):\n",
    "        P_F = P_F_test[j]\n",
    "        for t in range(num_instances_per_setting):\n",
    "            \n",
    "            #Uniformly randomly sample a survival time\n",
    "            survival_time = random.uniform(0, simulation_length)   \n",
    "        \n",
    "            #Sample observation times\n",
    "            observation_times = sample_observation_times(lambda_r_standard, lambda_o, p_N, simulation_length)\n",
    "            \n",
    "            #Sample observations\n",
    "            Y_binary = generate_observations(survival_time, observation_times, P_M, P_F)\n",
    "            Y_bool = Y_binary > 0\n",
    "            \n",
    "            #Run the general-purpose peristence filter\n",
    "            gp_persistence_filter_belief = run_persistence_filter(Y_bool, observation_times, P_M, P_F, query_times, gp_logS)\n",
    "            \n",
    "            #Run the uniform persistence filter\n",
    "            uniform_persistence_filter_belief = run_persistence_filter(Y_bool, observation_times, P_M, P_F, query_times, uniform_logS)\n",
    "            \n",
    "            #Run the empirical estimator\n",
    "            empirical_estimator_belief = run_empirical_estimator(Y_bool, observation_times, query_times)\n",
    "            \n",
    "            #Compute the errors\n",
    "            X_t = query_times <= survival_time  #Ground truth\n",
    "            gp_persistence_filter_instance_errors[t] = compute_mean_absolute_error(X_t, gp_persistence_filter_belief, query_times)\n",
    "            uniform_persistence_filter_instance_errors[t] = compute_mean_absolute_error(X_t, uniform_persistence_filter_belief, query_times)\n",
    "            empirical_estimator_instance_errors[t] = compute_mean_absolute_error(X_t, empirical_estimator_belief, query_times)\n",
    "            \n",
    "        #Compute the means of the MAE errors for these parameter settings\n",
    "        gp_persistence_filter_detector_avg_MAE_errors[i,j] = mean(gp_persistence_filter_instance_errors)\n",
    "        uniform_persistence_filter_detector_avg_MAE_errors[i,j] = mean(uniform_persistence_filter_instance_errors)\n",
    "        empirical_estimator_detector_avg_MAE_errors[i,j] = mean(empirical_estimator_instance_errors)"
   ]
  },
  {
   "cell_type": "markdown",
   "metadata": {},
   "source": [
    "Plotting options"
   ]
  },
  {
   "cell_type": "code",
   "execution_count": 5,
   "metadata": {
    "collapsed": false,
    "scrolled": false
   },
   "outputs": [],
   "source": [
    "contour_levels = linspace(0.0, .5, 100)  # Use the same contour levels for all plots\n",
    "ticks = linspace(0, .5, 6)  # Set of colorbar tick marks\n"
   ]
  },
  {
   "cell_type": "code",
   "execution_count": 15,
   "metadata": {
    "collapsed": false
   },
   "outputs": [
    {
     "data": {
      "image/png": "[encoded data removed]",
      "text/plain": [
       "<matplotlib.figure.Figure at 0x7f76b1310b90>"
      ]
     },
     "metadata": {},
     "output_type": "display_data"
    }
   ],
   "source": [
    "figure(figsize=figure_size)\n",
    "contourf(P_M_test, P_F_test, gp_persistence_filter_detector_avg_MAE_errors, contour_levels)\n",
    "#title('General-purpose persistence filter mean absolute error')\n",
    "xlabel('Probability of missed detection ($P_M$)')\n",
    "ylabel('Probability of false alarm ($P_F$)')\n",
    "cbar = colorbar(ticks = ticks)\n",
    "#savefig(figure_folder + 'general_purpose_persistence_filter_L1_error_vs_detector_error_rates.pdf', bbox_inches='tight')\n",
    "show()"
   ]
  },
  {
   "cell_type": "code",
   "execution_count": 16,
   "metadata": {
    "collapsed": false
   },
   "outputs": [
    {
     "data": {
      "image/png": "[encoded data removed]",
      "text/plain": [
       "<matplotlib.figure.Figure at 0x7f7686413490>"
      ]
     },
     "metadata": {},
     "output_type": "display_data"
    }
   ],
   "source": [
    "figure(figsize=figure_size)\n",
    "contourf(P_M_test, P_F_test, uniform_persistence_filter_detector_avg_MAE_errors, contour_levels)\n",
    "#title('Uniform prior persistence filter mean absolute error')\n",
    "xlabel('Probability of missed detection ($P_M$)')\n",
    "ylabel('Probability of false alarm ($P_F$)')\n",
    "cbar = colorbar(ticks = ticks)\n",
    "#savefig(figure_folder + 'uniform_persistence_filter_L1_error_vs_detector_error_rates.pdf', bbox_inches='tight')\n",
    "show()"
   ]
  },
  {
   "cell_type": "code",
   "execution_count": 17,
   "metadata": {
    "collapsed": false,
    "scrolled": false
   },
   "outputs": [
    {
     "data": {
      "image/png": "[encoded data removed]",
      "text/plain": [
       "<matplotlib.figure.Figure at 0x7f76b129cc10>"
      ]
     },
     "metadata": {},
     "output_type": "display_data"
    }
   ],
   "source": [
    "figure(figsize=figure_size)\n",
    "contourf(P_M_test, P_F_test, empirical_estimator_detector_avg_MAE_errors, contour_levels)\n",
    "#title('Empirical estimator mean absolute error')\n",
    "xlabel('Probability of missed detection ($P_M$)')\n",
    "ylabel('Probability of false alarm ($P_F$)')\n",
    "cbar = colorbar(ticks = ticks)\n",
    "#savefig(figure_folder + 'empirical_estimator_L1_error_vs_detector_error_rates.pdf', bbox_inches='tight')\n",
    "show()"
   ]
  },
  {
   "cell_type": "markdown",
   "metadata": {},
   "source": [
    "TEST #2:  Varying the revisitation rates, evaluating using average L1 error"
   ]
  },
  {
   "cell_type": "code",
   "execution_count": 18,
   "metadata": {
    "collapsed": false,
    "scrolled": false
   },
   "outputs": [
    {
     "name": "stdout",
     "output_type": "stream",
     "text": [
      "CPU times: user 1min 47s, sys: 15.6 ms, total: 1min 47s\n",
      "Wall time: 1min 47s\n"
     ]
    }
   ],
   "source": [
    "%%time\n",
    "\n",
    "#Allocate output storage array\n",
    "gp_persistence_filter_revisit_rate_avg_MAE_errors = empty(len(lambda_r_test))\n",
    "uniform_persistence_filter_revisit_rate_avg_MAE_errors = empty(len(lambda_r_test))\n",
    "empirical_estimator_revisit_rate_avg_MAE_errors = empty(len(lambda_r_test))\n",
    "\n",
    "gp_persistence_filter_instance_errors = empty(num_instances_per_setting)\n",
    "uniform_persistence_filter_instance_errors = empty(num_instances_per_setting)\n",
    "empirical_estimator_instance_errors = empty(num_instances_per_setting)\n",
    "\n",
    "for l in range(len(lambda_r_test)):\n",
    "    lambda_r = lambda_r_test[l]\n",
    "    for t in range(num_instances_per_setting):\n",
    "\n",
    "        #Uniformly randomly sample a survival time\n",
    "        survival_time = random.uniform(0, simulation_length)   \n",
    "        \n",
    "        #Sample observation times\n",
    "        observation_times = sample_observation_times(lambda_r, lambda_o, p_N, simulation_length)\n",
    "        \n",
    "        #Sample observations\n",
    "        Y_binary = generate_observations(survival_time, observation_times, P_M_standard, P_F_standard)\n",
    "        Y_bool = Y_binary > 0\n",
    "            \n",
    "        #Run the general-purpose peristence filter\n",
    "        gp_persistence_filter_belief = run_persistence_filter(Y_bool, observation_times, P_M_standard, P_F_standard, query_times, gp_logS)\n",
    "        \n",
    "        #Run the uniform-prior peristence filter\n",
    "        uniform_persistence_filter_belief = run_persistence_filter(Y_bool, observation_times, P_M_standard, P_F_standard, query_times, uniform_logS)\n",
    "        \n",
    "        \n",
    "        #Run the empirical estimator\n",
    "        empirical_estimator_belief = run_empirical_estimator(Y_bool, observation_times, query_times)\n",
    "            \n",
    "        #Compute the errors\n",
    "        X_t = query_times <= survival_time  #Ground truth\n",
    "        gp_persistence_filter_instance_errors[t] = compute_mean_absolute_error(X_t, gp_persistence_filter_belief, query_times)   \n",
    "        uniform_persistence_filter_instance_errors[t] = compute_mean_absolute_error(X_t, uniform_persistence_filter_belief, query_times)            \n",
    "        empirical_estimator_instance_errors[t] = compute_mean_absolute_error(X_t, empirical_estimator_belief, query_times)\n",
    "            \n",
    "        #Compute the means of the MAE errors for these parameter settings\n",
    "    gp_persistence_filter_revisit_rate_avg_MAE_errors[l] = mean(gp_persistence_filter_instance_errors)\n",
    "    uniform_persistence_filter_revisit_rate_avg_MAE_errors[l] = mean(uniform_persistence_filter_instance_errors)\n",
    "    empirical_estimator_revisit_rate_avg_MAE_errors[l] = mean(empirical_estimator_instance_errors)"
   ]
  },
  {
   "cell_type": "markdown",
   "metadata": {},
   "source": [
    "Plot output"
   ]
  },
  {
   "cell_type": "code",
   "execution_count": 19,
   "metadata": {
    "collapsed": false
   },
   "outputs": [
    {
     "data": {
      "image/png": "[encoded data removed]",
      "text/plain": [
       "<matplotlib.figure.Figure at 0x7f76b11b5a90>"
      ]
     },
     "metadata": {},
     "output_type": "display_data"
    }
   ],
   "source": [
    "figure(figsize=figure_size)\n",
    "plot(lambda_r_test, uniform_persistence_filter_revisit_rate_avg_MAE_errors, '-b', label='Uniform-prior PF')\n",
    "plot(lambda_r_test, gp_persistence_filter_revisit_rate_avg_MAE_errors, '-g', label='General-purpose PF')\n",
    "plot(lambda_r_test, empirical_estimator_revisit_rate_avg_MAE_errors, '-r', label='Empirical estimator')\n",
    "title('Mean absolute error vs. revisitation rate')\n",
    "xlabel('Revisitation rate ($\\lambda_R$)')\n",
    "ylabel('Mean $L^1$ error')\n",
    "legend()\n",
    "#savefig(figure_folder + 'Mean_absolute_errors_vs_revisitation_rate.pdf', bbox_inches='tight')\n",
    "show()"
   ]
  },
  {
   "cell_type": "code",
   "execution_count": null,
   "metadata": {
    "collapsed": true
   },
   "outputs": [],
   "source": []
  }
 ],
 "metadata": {
  "kernelspec": {
   "display_name": "Python 2",
   "language": "python",
   "name": "python2"
  },
  "language_info": {
   "codemirror_mode": {
    "name": "ipython",
    "version": 2
   },
   "file_extension": ".py",
   "mimetype": "text/x-python",
   "name": "python",
   "nbconvert_exporter": "python",
   "pygments_lexer": "ipython2",
   "version": "2.7.6"
  }
 },
 "nbformat": 4,
 "nbformat_minor": 0
}
