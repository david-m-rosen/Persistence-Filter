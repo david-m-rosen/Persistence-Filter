{
 "cells": [
  {
   "cell_type": "markdown",
   "metadata": {},
   "source": [
    "Load up necessary files"
   ]
  },
  {
   "cell_type": "code",
   "execution_count": 1,
   "metadata": {
    "collapsed": false
   },
   "outputs": [],
   "source": [
    "#Persistence Filter files\n",
    "from libpython_persistence_filter import *\n",
    "from libpython_persistence_filter_utils import *\n",
    "\n",
    "from numpy import *"
   ]
  },
  {
   "cell_type": "markdown",
   "metadata": {
    "collapsed": true
   },
   "source": [
    "Set up some stuff that we will use to test the persistence filter implementation"
   ]
  },
  {
   "cell_type": "code",
   "execution_count": 2,
   "metadata": {
    "collapsed": true
   },
   "outputs": [],
   "source": [
    "#Set up survival-time priors\n",
    "lambda_u = 1\n",
    "lambda_l = .01\n",
    "logS_T = lambda t : log_general_purpose_survival_function(t, lambda_l, lambda_u)\n",
    "S_T = lambda t : exp(logS_T(t))\n",
    "\n",
    "#Set up observation models\n",
    "P_M = .2\n",
    "P_F = .01\n",
    "\n",
    "#Set up Persistence Filter\n",
    "pf = PersistenceFilter(logS_T, 0.0)"
   ]
  },
  {
   "cell_type": "markdown",
   "metadata": {},
   "source": [
    "We will perform a unit test by computing the posterior persistence probability p(X_t | Y) after incorporating observation y_1 = 0 at time t_1 = 1, y_2 = 1 at time t_2 = 2, and y_3 = 0 at time t_3 = 3"
   ]
  },
  {
   "cell_type": "code",
   "execution_count": 3,
   "metadata": {
    "collapsed": false
   },
   "outputs": [
    {
     "name": "stdout",
     "output_type": "stream",
     "text": [
      "FILTER STATE AFTER INCORPORATING y_1 = 0 at time t_1 = 1.0\n",
      "Filter posterior probability p(X_{t_1} = 1 | y_1 = 0) = 0.495122\n",
      "True posterior probability p(X_{t_1} = 1 | y_1 = 0) = 0.495122\n",
      "\n",
      "FILTER STATE AFTER INCORPORATING y_2 = 1 at time t_2 = 2.0\n",
      "Filter posterior probability p(X_{t_2} = 1 | y_1 = 0, y_2 = 1) = 0.983611\n",
      "True posterior probability p(X_{t_2} = 1 | y_1 = 0, y_2 = 1) = 0.983611\n",
      "\n",
      "FILTER STATE AFTER INCORPORATING y_3 = 0 at time t_3 = 3.0\n",
      "Filter posterior probability p(X_{t_3} = 1 | y_1 = 0, y_2 = 1, y_3 = 0) = 0.589282\n",
      "True posterior probability p(X_{t_3} = 1 | y_1 = 0, y_2 = 1, y_3 = 0) = 0.589282\n",
      "\n"
     ]
    }
   ],
   "source": [
    "#FIRST OBSERVATION:  y_1 = 0 at time t_1 = 1.0\n",
    "\n",
    "#Update the filter\n",
    "t_1 = 1.0\n",
    "pf.update(False, t_1, P_M, P_F)\n",
    "#Posterior prediction\n",
    "filter_posterior1 = pf.predict(t_1)\n",
    "\n",
    "#Compute ground-truth value by hand:\n",
    "\n",
    "#The likelihood p(y_1 = 0 | T >= t_1) = P_M.\n",
    "pY1_t1 = P_M\n",
    "  \n",
    "#The evidence probability p(y_1 = 0) = p(y_1 = 0 | T >= t_1) * p(T >= t_1) + p(y_1 = 0 | T < t_1) * p(T < t_1)\n",
    "pY1 = P_M * S_T(t_1) + (1 - P_F) * (1 - S_T(t_1))\n",
    "\n",
    "#Compute the posterior p(X_{t_1} = 1 | y_1 = 0) = p(y_1 = 0 | T >= t_1) / p(y_1 = 0) * p(T >= t_1)\n",
    "posterior1 = (pY1_t1 / pY1) * S_T(t_1)\n",
    "\n",
    "print \"FILTER STATE AFTER INCORPORATING y_1 = 0 at time t_1 = 1.0\"\n",
    "print \"Filter posterior probability p(X_{t_1} = 1 | y_1 = 0) = %g\" % filter_posterior1\n",
    "print \"True posterior probability p(X_{t_1} = 1 | y_1 = 0) = %g\\n\" % posterior1\n",
    "\n",
    "\n",
    "#SECOND OBSERVATION:  y_2 = 1 at time t_1 = 2.0\n",
    "\n",
    "#Update the filter\n",
    "t_2 = 2.0\n",
    "pf.update(True, t_2, P_M, P_F)\n",
    "#Posterior prediction\n",
    "filter_posterior2 = pf.predict(t_2)\n",
    "\n",
    "#Compute ground-truth value by hand\n",
    "\n",
    "#The likelihood p(y_1 = 0, y_2 = 1 | T >= t_2)\n",
    "pY2_t2 = P_M * (1-P_M)\n",
    "\n",
    "# The evidence probability p(y_1 = 0, y_2 = 1) = \n",
    "# p(y_1 = 0, y_2 = 1 | T > t_2) * p(T > t_2) +\n",
    "# p(y_1 = 0, y_2 = 1 | t_1 <= T < t_2) * p(t_1 <= T < t_2) +\n",
    "# p(y_1 = 0, y_2 = 1 | T < t_1) * p(t < t_1)\n",
    "\n",
    "pY2 = P_M * (1 - P_M) * S_T(t_2) \\\n",
    "+ P_M * P_F * (S_T(t_1) - S_T(t_2)) \\\n",
    "+ (1 - P_F) * P_F * (1 - S_T(t_1))\n",
    "\n",
    "#Compute the posterior p(X_{t_2} = 2 | y_1 = 0, y_2 = 1) = p(y_1 = 0, y_2 = 1 | T >= t_2) / p(y_1 = 0, y_2 = 1) * p(T >= t_2)\n",
    "posterior2 = (pY2_t2 / pY2) * S_T(t_2)\n",
    "\n",
    "\n",
    "print \"FILTER STATE AFTER INCORPORATING y_2 = 1 at time t_2 = 2.0\"\n",
    "print \"Filter posterior probability p(X_{t_2} = 1 | y_1 = 0, y_2 = 1) = %g\" % filter_posterior2\n",
    "print \"True posterior probability p(X_{t_2} = 1 | y_1 = 0, y_2 = 1) = %g\\n\" % posterior2\n",
    "\n",
    "\n",
    "\n",
    "#THIRD OBSERVATION:  y_3 = 0 at time t_3 = 3.0\n",
    "\n",
    "#Update the filter\n",
    "t_3 = 3.0\n",
    "pf.update(False, t_3, P_M, P_F)\n",
    "#Posterior prediction\n",
    "filter_posterior3 = pf.predict(t_3)\n",
    "\n",
    "#Compute ground-truth-value by hand\n",
    "\n",
    "#The likelihood p(y_1 = 0, y_2 = 1 | T >= t_2)\n",
    "pY3_t3 = P_M * (1-P_M) * P_M;\n",
    "  \n",
    "#The evidence probability p(y_1 = 0, y_2 = 1, y_3 = 0) = \n",
    "# p(y_1 = 0, y_2 = 1, y_3 = 0 | T > t_3) * p(T > t_3) +\n",
    "# p(y_1 = 0, y_2 = 1, y_3 = 0 | t_2 <= T < t_3) * p(t_2 <= T < t_3) +\n",
    "# p(y_1 = 0, y_2 = 1, y_3 = 0 | t_1 <= T < t_2) * p(t_1 <= T < t_2) +\n",
    "# p(y_1 = 0, y_2 = 1, y_3 = 0 | T < t_1) * p(t < t_1)\n",
    "  \n",
    "pY3 = P_M * (1 - P_M) * P_M * S_T(t_3) \\\n",
    "+ P_M * (1 - P_M) * (1 - P_F) * (S_T(t_2) - S_T(t_3)) \\\n",
    "+ P_M * P_F * (1 - P_F) * (S_T(t_1) - S_T(t_2)) \\\n",
    "+ (1 - P_F) * P_F * (1 - P_F) * (1 - S_T(t_1))\n",
    "    \n",
    "#Compute the posterior p(X_{t_2} = 2 | y_1 = 0, y_2 = 1) = p(y_1 = 0, y_2 = 1 | T >= t_2) / p(y_1 = 0, y_2 = 1) * p(T >= t_2)\n",
    "posterior3 = (pY3_t3 / pY3) * S_T(t_3)\n",
    "\n",
    "\n",
    "print \"FILTER STATE AFTER INCORPORATING y_3 = 0 at time t_3 = 3.0\"\n",
    "print \"Filter posterior probability p(X_{t_3} = 1 | y_1 = 0, y_2 = 1, y_3 = 0) = %g\" % filter_posterior3\n",
    "print \"True posterior probability p(X_{t_3} = 1 | y_1 = 0, y_2 = 1, y_3 = 0) = %g\\n\" % posterior3\n"
   ]
  },
  {
   "cell_type": "code",
   "execution_count": null,
   "metadata": {
    "collapsed": true
   },
   "outputs": [],
   "source": []
  }
 ],
 "metadata": {
  "kernelspec": {
   "display_name": "Python 2",
   "language": "python",
   "name": "python2"
  },
  "language_info": {
   "codemirror_mode": {
    "name": "ipython",
    "version": 2
   },
   "file_extension": ".py",
   "mimetype": "text/x-python",
   "name": "python",
   "nbconvert_exporter": "python",
   "pygments_lexer": "ipython2",
   "version": "2.7.12"
  }
 },
 "nbformat": 4,
 "nbformat_minor": 0
}
