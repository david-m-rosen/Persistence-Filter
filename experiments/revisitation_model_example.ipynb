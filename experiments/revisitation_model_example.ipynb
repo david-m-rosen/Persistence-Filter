{
 "cells": [
  {
   "cell_type": "code",
   "execution_count": null,
   "metadata": {
    "collapsed": true
   },
   "outputs": [],
   "source": [
    "# Import useful test utilities\n",
    "from persistence_filter_test_utils import *\n",
    "\n",
    "# Python scientific computing stuffs\n",
    "from numpy import *\n",
    "from scipy.stats import *\n",
    "from matplotlib.pyplot import *\n",
    "from mpl_toolkits.mplot3d import Axes3D\n",
    "%matplotlib inline\n",
    "\n",
    "# Settings for rendering TeX in MATLAB\n",
    "rc('text', usetex=True)\n",
    "\n",
    "# Plotting options\n",
    "fig_scaling = .5  # Scaling factor for figures\n",
    "figure_size = (fig_scaling * 8.0, fig_scaling*6.0)  #Figure size, in inches\n",
    "figure_folder = 'figures/'  # The folder in which to save the output"
   ]
  },
  {
   "cell_type": "markdown",
   "metadata": {},
   "source": [
    "Generate data from the bursty-revisitation model and the feature-persistence model"
   ]
  },
  {
   "cell_type": "code",
   "execution_count": null,
   "metadata": {
    "collapsed": false
   },
   "outputs": [],
   "source": [
    "# DATA GENERATION SETTINGS\n",
    "\n",
    "simulation_length = 1000 # Length of simulation in seconds\n",
    "sampling_period = .01  # Inter-sample period in seconds for true state trace\n",
    "X_sampling_times = arange(0, simulation_length, sampling_period) # True state sampling times\n",
    "\n",
    "# \"Standard\" simulation settings\n",
    "P_M = .1  # Missed detection probability\n",
    "P_F = .1 # False alarm probability\n",
    "lambda_r_standard = 1.0 / 50.0  #Standard revisitation rate\n",
    "lambda_o = 1.0  # Inter-observation rate\n",
    "p_N = 1.0 / 7.0  # p_N = probability of leaving after the last reobservation; expected # observations N = 1 / p_N\n",
    "\n",
    "\n",
    "\n",
    "# Uniformly randomly sample a survival time\n",
    "survival_time = random.uniform(0, simulation_length)\n",
    "# Compute true state-trace\n",
    "X_t = X_sampling_times <= survival_time \n",
    "\n",
    "        \n",
    "# Sample observation times\n",
    "observation_times = sample_observation_times(lambda_r_standard, lambda_o, p_N, simulation_length)\n",
    "            \n",
    "# Sample observations\n",
    "Y_binary = generate_observations(survival_time, observation_times, P_M, P_F)\n",
    "Y_bool = Y_binary > 0"
   ]
  },
  {
   "cell_type": "markdown",
   "metadata": {},
   "source": [
    "Plot generated data"
   ]
  },
  {
   "cell_type": "code",
   "execution_count": null,
   "metadata": {
    "collapsed": false
   },
   "outputs": [],
   "source": [
    "figure(figsize=figure_size)\n",
    "plot(X_sampling_times, X_t, 'b', linewidth=2, label='True state')\n",
    "plot(observation_times, Y_binary, 'r', linestyle='None', marker='.', markersize=13, label='Observation')\n",
    "xlabel('Time (t)')\n",
    "title('Sampled Observations')\n",
    "legend(loc='lower left', numpoints=1, frameon=False)\n",
    "#savefig(figure_folder + 'revisitation_model_sampled_observations.pdf',  bbox_inches='tight')\n",
    "show()"
   ]
  },
  {
   "cell_type": "code",
   "execution_count": null,
   "metadata": {
    "collapsed": true
   },
   "outputs": [],
   "source": []
  }
 ],
 "metadata": {
  "kernelspec": {
   "display_name": "Python 2",
   "language": "python",
   "name": "python2"
  },
  "language_info": {
   "codemirror_mode": {
    "name": "ipython",
    "version": 2
   },
   "file_extension": ".py",
   "mimetype": "text/x-python",
   "name": "python",
   "nbconvert_exporter": "python",
   "pygments_lexer": "ipython2",
   "version": "2.7.6"
  }
 },
 "nbformat": 4,
 "nbformat_minor": 0
}
