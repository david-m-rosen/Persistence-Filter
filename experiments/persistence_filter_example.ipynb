{
 "cells": [
  {
   "cell_type": "markdown",
   "metadata": {},
   "source": [
    "Load up necessary libraries"
   ]
  },
  {
   "cell_type": "code",
   "execution_count": null,
   "metadata": {
    "collapsed": false,
    "scrolled": true
   },
   "outputs": [],
   "source": [
    "#Persistence Filter files\n",
    "from libpython_persistence_filter import *\n",
    "from libpython_persistence_filter_utils import *\n",
    "from persistence_filter_test_utils import *\n",
    "\n",
    "#Python scientific computing stuffs\n",
    "from numpy import *\n",
    "from scipy.stats import *\n",
    "from matplotlib.pyplot import *\n",
    "%matplotlib inline\n",
    "\n",
    "\n",
    "#Settings for rendering TeX in MATLAB\n",
    "rc('text', usetex=True)\n",
    "\n",
    "#Plotting options\n",
    "fig_scaling = .75  #Scaling factor for figures\n",
    "figure_size = (fig_scaling * 8.0, fig_scaling*6.0)  #Figure size, in inches\n",
    "figure_folder = 'figures/'  #The folder in which to save the output"
   ]
  },
  {
   "cell_type": "markdown",
   "metadata": {},
   "source": [
    "Configure persistence filter measurement model options"
   ]
  },
  {
   "cell_type": "code",
   "execution_count": null,
   "metadata": {
    "collapsed": true,
    "scrolled": true
   },
   "outputs": [],
   "source": [
    "##Data generation settings\n",
    "\n",
    "P_M = .2  #Missed detection probability\n",
    "P_F = .2  #False alarm probability\n",
    "simulation_length = 125 #Length of simulation in seconds\n",
    "sampling_period = .01  #Inter-sample period in seconds\n",
    "survival_time = 115 #Survival time, in seconds\n",
    "\n",
    "\n",
    "##Persistence filter settings\n",
    "#Used for an exponential distribution with known rate parameter\n",
    "l = .01\n",
    "\n",
    "#Admissible range of lambdas for use with general-purpose prior\n",
    "lambda_u = 10\n",
    "lambda_l = .001\n",
    "\n",
    "#Survival time prior(s)\n",
    "\n",
    "#Use the exponential prior with rate parameter l\n",
    "#logS = lambda x : -l*x\n",
    "\n",
    "#Use the general-purpose prior with the given lower and upper bounds on the possible rate parameters\n",
    "gp_logS = lambda x : log_general_purpose_survival_function(x, lambda_l, lambda_u)\n",
    "\n",
    "\n",
    "\n",
    "##The set of times to query the belief of the persistence filter\n",
    "query_times = arange(0, simulation_length, .01)"
   ]
  },
  {
   "cell_type": "markdown",
   "metadata": {},
   "source": [
    "Generate samples here"
   ]
  },
  {
   "cell_type": "code",
   "execution_count": null,
   "metadata": {
    "collapsed": false,
    "scrolled": true
   },
   "outputs": [],
   "source": [
    "X_sampling_times = arange(0, simulation_length, sampling_period)\n",
    "X_t = X_sampling_times <= survival_time \n",
    "\n",
    "#First set of observations\n",
    "first_obs_times = arange(1, 25 + 1, 1)  #Sampling times for first set of observations\n",
    "first_obs = generate_observations(survival_time, first_obs_times, P_M, P_F)  #Sample Bernoulli observations according to the measurement model\n",
    "first_obs_bool = first_obs > 0  #Convert Bernoulli observations to Boolean values for use with Persistence Filter\n",
    "\n",
    "\n",
    "#Second set of observations\n",
    "second_obs_times = arange(75, 125 + 1, 1)\n",
    "second_obs = generate_observations(survival_time, second_obs_times, P_M, P_F)  #Sample Bernoulli observations according to the measurement model\n",
    "\n",
    "second_obs_bool = second_obs > 0\n",
    "\n",
    "#Concatenate these arrays\n",
    "t = concatenate( (first_obs_times, second_obs_times) )  #Array of observation times\n",
    "Y_binary = concatenate( (first_obs, second_obs) )  #Array of (binary) observations\n",
    "Y_bool = concatenate( (first_obs_bool, second_obs_bool) )  #Array of (Boolean) observations"
   ]
  },
  {
   "cell_type": "markdown",
   "metadata": {},
   "source": [
    "Plot the observations"
   ]
  },
  {
   "cell_type": "code",
   "execution_count": 19,
   "metadata": {
    "collapsed": false,
    "scrolled": true
   },
   "outputs": [
    {
     "data": {
      "image/png": "[encoded data removed]",
      "text/plain": [
       "<matplotlib.figure.Figure at 0x7fc700becb10>"
      ]
     },
     "metadata": {},
     "output_type": "display_data"
    }
   ],
   "source": [
    "figure(figsize=figure_size)\n",
    "plot(X_sampling_times, X_t, 'b', linewidth=2, label='True state')\n",
    "plot(t, Y_binary, 'r', linestyle='None', marker='.', markersize=13, label='Observation')\n",
    "xlabel('Time (t)')\n",
    "title('Sampled Observations')\n",
    "legend(loc='lower left', numpoints=1, frameon=False)\n",
    "#savefig(figure_folder + 'sampled_observations.eps',  bbox_inches='tight')\n",
    "show()\n"
   ]
  },
  {
   "cell_type": "markdown",
   "metadata": {},
   "source": [
    "Run persistence filter here"
   ]
  },
  {
   "cell_type": "code",
   "execution_count": null,
   "metadata": {
    "collapsed": false,
    "scrolled": true
   },
   "outputs": [],
   "source": [
    "#Run the persistence filter\n",
    "persistence_beliefs = run_persistence_filter(Y_bool, t, P_M, P_F, query_times, gp_logS)"
   ]
  },
  {
   "cell_type": "markdown",
   "metadata": {},
   "source": [
    "Plot the results here"
   ]
  },
  {
   "cell_type": "code",
   "execution_count": null,
   "metadata": {
    "collapsed": false,
    "scrolled": true
   },
   "outputs": [],
   "source": [
    "figure(figsize=figure_size)\n",
    "plot(X_sampling_times, X_t, 'b', linewidth=2, label='True state')\n",
    "plot(t, Y_binary, 'r', linestyle='None', marker='.', markersize=13, label='Observation')\n",
    "plot(query_times, persistence_beliefs, 'g', label='Filter belief')\n",
    "title('Sampled Observations')\n",
    "xlabel('Time (t)')\n",
    "\n",
    "legend(loc='lower left', numpoints=1, frameon=False)\n",
    "#savefig(figure_folder + 'persistence_filter_example.eps',  bbox_inches='tight')\n",
    "show()"
   ]
  }
 ],
 "metadata": {
  "kernelspec": {
   "display_name": "Python 2",
   "language": "python",
   "name": "python2"
  },
  "language_info": {
   "codemirror_mode": {
    "name": "ipython",
    "version": 2
   },
   "file_extension": ".py",
   "mimetype": "text/x-python",
   "name": "python",
   "nbconvert_exporter": "python",
   "pygments_lexer": "ipython2",
   "version": "2.7.6"
  }
 },
 "nbformat": 4,
 "nbformat_minor": 0
}
