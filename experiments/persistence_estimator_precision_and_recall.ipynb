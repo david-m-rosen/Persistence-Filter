{
 "cells": [
  {
   "cell_type": "markdown",
   "metadata": {},
   "source": [
    "Load up necessary libraries"
   ]
  },
  {
   "cell_type": "code",
   "execution_count": null,
   "metadata": {
    "collapsed": false,
    "scrolled": false
   },
   "outputs": [],
   "source": [
    "#Persistence Filter files\n",
    "from libpython_persistence_filter import *\n",
    "from libpython_persistence_filter_utils import *\n",
    "from persistence_filter_test_utils import *\n",
    "\n",
    "#Python scientific computing stuffs\n",
    "from numpy import *\n",
    "from scipy.stats import *\n",
    "from matplotlib.pyplot import *\n",
    "from mpl_toolkits.mplot3d import Axes3D\n",
    "%matplotlib inline\n",
    "\n",
    "#Settings for rendering TeX in MATLAB\n",
    "rc('text', usetex=True)\n",
    "\n",
    "#Plotting options\n",
    "fig_scaling = .5  #Scaling factor for figures\n",
    "figure_size = (fig_scaling * 8.0, fig_scaling*6.0)  #Figure size, in inches\n",
    "figure_folder = 'figures/'  #The folder in which to save the output"
   ]
  },
  {
   "cell_type": "markdown",
   "metadata": {},
   "source": [
    "Configure simulation options"
   ]
  },
  {
   "cell_type": "code",
   "execution_count": null,
   "metadata": {
    "collapsed": true,
    "scrolled": false
   },
   "outputs": [],
   "source": [
    "#PERSISTENCE FILTER SETTINGS\n",
    "#Admissible range of lambdas for use with general-purpose prior\n",
    "lambda_u = 1\n",
    "lambda_l = .001\n",
    "\n",
    "#General-purpose prior log-survival time\n",
    "gp_logS = lambda x : log_general_purpose_survival_function(x, lambda_l, lambda_u)\n",
    "\n",
    "#Uniform prior log-survival time\n",
    "simulation_length = 1000 #Length of simulation in seconds\n",
    "uniform_logS = lambda x : asscalar(where(logical_and(0<= x, x <= simulation_length), \n",
    "                                log(subtract(1.0, (1.0 / simulation_length)*x)), 0.0))"
   ]
  },
  {
   "cell_type": "code",
   "execution_count": null,
   "metadata": {
    "collapsed": false,
    "scrolled": false
   },
   "outputs": [],
   "source": [
    "#DATA GENERATION SETTINGS\n",
    "\n",
    "#\"Standard\" simulation settings\n",
    "P_M_standard = .1  #Standard missed detection probability\n",
    "P_F_standard = .1 #Standard false alarm probability\n",
    "lambda_r_standard = 1.0 / 50.0  #Standard revisitation rate\n",
    "lambda_o = 1.0  #Inter-observation rate\n",
    "p_N = 1.0 / 5.0  #p_N = probability of leaving after the last reobservation; expected # observations N = 1 / p_N\n",
    "\n",
    "num_instances = 100  #Number of Monte Carlo samples to draw for each parameter setting\n",
    "\n",
    "\n",
    "#The set of times to query the belief of the persistence filter\n",
    "query_times = arange(0, simulation_length, .1)"
   ]
  },
  {
   "cell_type": "markdown",
   "metadata": {
    "collapsed": true,
    "scrolled": false
   },
   "source": [
    "TEST EFFECTS OF THRESHOLDING ON PRECISION AND RECALL"
   ]
  },
  {
   "cell_type": "code",
   "execution_count": null,
   "metadata": {
    "collapsed": false
   },
   "outputs": [],
   "source": [
    "%%time\n",
    "\n",
    "thresholds = [.01, .05, .1, .15, .2, .25, .3, .35, .4, .45, .5]\n",
    "\n",
    "#Create lists of empty arrays that will hold valid precision/recall values\n",
    "gp_persistence_filter_precisions = [array([])] * len(thresholds)\n",
    "gp_persistence_filter_recalls = [array([])] * len(thresholds)\n",
    "\n",
    "uniform_persistence_filter_precisions = [array([])] * len(thresholds)\n",
    "uniform_persistence_filter_recalls = [array([])] * len(thresholds)\n",
    "\n",
    "empirical_estimator_precisions = array([])\n",
    "empirical_estimator_recalls = array([])\n",
    "\n",
    "        \n",
    "for i in range(num_instances):\n",
    "    #Uniformly randomly sample a survival time\n",
    "    survival_time = random.uniform(0, simulation_length)   \n",
    "        \n",
    "    #Sample observation times\n",
    "    observation_times = sample_observation_times(lambda_r_standard, lambda_o, p_N, simulation_length)\n",
    "        \n",
    "    #Sample observations\n",
    "    Y_binary = generate_observations(survival_time, observation_times, P_M_standard, P_F_standard)\n",
    "    Y_bool = Y_binary > 0\n",
    "            \n",
    "    #Run the peristence filters\n",
    "    gp_persistence_filter_belief = run_persistence_filter(Y_bool, observation_times, P_M_standard, P_F_standard, query_times, gp_logS)\n",
    "    \n",
    "    uniform_persistence_filter_belief = run_persistence_filter(Y_bool, observation_times, P_M_standard, P_F_standard, query_times, uniform_logS)\n",
    "    \n",
    "    #Run the empirical estimator here\n",
    "    empirical_estimator_belief = run_empirical_estimator(Y_bool, observation_times, query_times)\n",
    "    \n",
    "    \n",
    "    #Compute classifications and errors here\n",
    "    X_t = query_times <= survival_time  #Ground truth\n",
    "    \n",
    "    #Record persistence filter precisions and recalls\n",
    "    for j in range(len(thresholds)):\n",
    "        #Compute the general-purpose persistence filter classification obtained by thresholding the belief state at the given threshold\n",
    "        gp_persistence_filter_classifications = (gp_persistence_filter_belief >= thresholds[j])\n",
    "        (P, R) = compute_feature_absence_precision_and_recall(X_t, gp_persistence_filter_classifications)\n",
    "        \n",
    "        #If we obtained valid precision and recall values (i.e. there were no divisions by zero due to having no predictions of the specified class)\n",
    "        if(isfinite(P)):\n",
    "            gp_persistence_filter_precisions[j] = append(gp_persistence_filter_precisions[j], P)\n",
    "        gp_persistence_filter_recalls[j] = append(gp_persistence_filter_recalls[j], R)\n",
    "        \n",
    "        #Compute the uniform-prior persistence filter classification obtained by thresholding the belief state at the given threshold\n",
    "        uniform_persistence_filter_classifications = (uniform_persistence_filter_belief >= thresholds[j])\n",
    "        (P, R) = compute_feature_absence_precision_and_recall(X_t, uniform_persistence_filter_classifications)\n",
    "        \n",
    "        #If we obtained valid precision and recall values (i.e. there were no divisions by zero due to having no predictions of the specified class)\n",
    "        if(isfinite(P)):\n",
    "            uniform_persistence_filter_precisions[j] = append(uniform_persistence_filter_precisions[j], P)\n",
    "        uniform_persistence_filter_recalls[j] = append(uniform_persistence_filter_recalls[j], R)\n",
    "        \n",
    "\n",
    "    #Record empirical estimator precision and recall\n",
    "    empirical_estimator_classifications = (empirical_estimator_belief > .5)\n",
    "    (P,R) = compute_feature_absence_precision_and_recall(X_t, empirical_estimator_classifications )\n",
    "    \n",
    "    #If we obtained valid precision and recall values (i.e. there were no divisions by zero due to having no predictions of the specified class)\n",
    "    if(isfinite(P)):\n",
    "        empirical_estimator_precisions = append(empirical_estimator_precisions, P)\n",
    "    empirical_estimator_recalls = append(empirical_estimator_recalls, R)\n",
    "\n",
    "#Compute the mean precision and recall for each threshold setting\n",
    "gp_persistence_filter_avg_precisions = map(mean, gp_persistence_filter_precisions)\n",
    "gp_persistence_filter_avg_recalls = map(mean, gp_persistence_filter_recalls)\n",
    "\n",
    "uniform_persistence_filter_avg_precisions = map(mean, uniform_persistence_filter_precisions)\n",
    "uniform_persistence_filter_avg_recalls = map(mean, uniform_persistence_filter_recalls)\n",
    "\n",
    "#Compute the mean precision and recall for the empirical estimator\n",
    "empirical_estimator_avg_precision = mean(empirical_estimator_precisions)\n",
    "empirical_estimator_avg_recall = mean(empirical_estimator_recalls)\n"
   ]
  },
  {
   "cell_type": "code",
   "execution_count": null,
   "metadata": {
    "collapsed": false
   },
   "outputs": [],
   "source": [
    "#Display results\n",
    "print \"Uniform-prior persistence filter mean precisions:\"\n",
    "print uniform_persistence_filter_avg_precisions\n",
    "print \"Uniform-prior persistence filter mean recalls:\"\n",
    "print uniform_persistence_filter_avg_recalls\n",
    "print \"\\n\"\n",
    "\n",
    "print \"General-purpose persistence filter mean precisions:\"\n",
    "print gp_persistence_filter_avg_precisions\n",
    "print \"General-purpose persistence filter mean recalls:\"\n",
    "print gp_persistence_filter_avg_recalls\n",
    "print \"\\n\"\n",
    "\n",
    "print \"Empirical estimator filter mean precision:\"\n",
    "print empirical_estimator_avg_precision\n",
    "print \"Empirical estimator mean recall:\"\n",
    "print empirical_estimator_avg_recall"
   ]
  },
  {
   "cell_type": "code",
   "execution_count": null,
   "metadata": {
    "collapsed": false
   },
   "outputs": [],
   "source": [
    "figure(figsize=figure_size)\n",
    "plot(thresholds, uniform_persistence_filter_avg_precisions, '-b', label='Uniform-prior PF') \n",
    "plot(thresholds, gp_persistence_filter_avg_precisions, '-g', label='General-purpose PF')\n",
    "plot(thresholds, repeat(empirical_estimator_avg_precision, len(thresholds)), '-r', label='Empirical estimator')\n",
    "#title(\"Precision\")\n",
    "xlabel(\"Removal threshold ($P_V$)\")\n",
    "ylabel(\"Mean precision\")\n",
    "legend(loc='best',frameon=False)\n",
    "#savefig(figure_folder + 'persistence_estimator_precisions.pdf', bbox_inches='tight')\n"
   ]
  },
  {
   "cell_type": "code",
   "execution_count": null,
   "metadata": {
    "collapsed": false
   },
   "outputs": [],
   "source": [
    "figure(figsize=figure_size)\n",
    "plot(thresholds, uniform_persistence_filter_avg_recalls, '-b', label='Uniform-prior PF') \n",
    "plot(thresholds, gp_persistence_filter_avg_recalls, '-g', label='General-purpose PF')\n",
    "plot(thresholds, repeat(empirical_estimator_avg_recall, len(thresholds)), '-r', label='Empirical estimator')\n",
    "#title(\"Recall\")\n",
    "xlabel(\"Removal threshold ($P_V$)\")\n",
    "ylabel(\"Mean recall\")\n",
    "legend(loc='best', frameon=False)\n",
    "#savefig(figure_folder + 'persistence_estimator_recalls.pdf', bbox_inches='tight')\n"
   ]
  },
  {
   "cell_type": "code",
   "execution_count": null,
   "metadata": {
    "collapsed": true
   },
   "outputs": [],
   "source": []
  }
 ],
 "metadata": {
  "kernelspec": {
   "display_name": "Python 2",
   "language": "python",
   "name": "python2"
  },
  "language_info": {
   "codemirror_mode": {
    "name": "ipython",
    "version": 2
   },
   "file_extension": ".py",
   "mimetype": "text/x-python",
   "name": "python",
   "nbconvert_exporter": "python",
   "pygments_lexer": "ipython2",
   "version": "2.7.6"
  }
 },
 "nbformat": 4,
 "nbformat_minor": 0
}
