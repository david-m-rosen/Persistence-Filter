{
 "cells": [
  {
   "cell_type": "markdown",
   "metadata": {},
   "source": [
    "Load up necessary libraries"
   ]
  },
  {
   "cell_type": "code",
   "execution_count": null,
   "metadata": {
    "collapsed": true
   },
   "outputs": [],
   "source": [
    "from poisson_process_utils import *\n",
    "from numpy.random import uniform as Uniform\n",
    "\n",
    "#Python scientific computing stuffs\n",
    "from numpy import *\n",
    "from scipy.stats import *\n",
    "from matplotlib.pyplot import *\n",
    "from mpl_toolkits.mplot3d import Axes3D\n",
    "%matplotlib inline\n",
    "\n",
    "#Settings for rendering TeX in MATLAB\n",
    "rc('text', usetex=True)\n",
    "\n",
    "\n",
    "#Plotting options\n",
    "fig_scaling = .5  #Scaling factor for figures\n",
    "figure_size = (fig_scaling * 8.0, fig_scaling*6.0)  #Figure size, in inches\n",
    "figure_folder = 'figures/'  #The folder in which to save the output"
   ]
  },
  {
   "cell_type": "markdown",
   "metadata": {},
   "source": [
    "A 1d example (ex. #1 of Sec. 4.1 from\"Tractable Nonparametric Bayesian Inference in Poisson Processes with Gaussian Process Priors\")"
   ]
  },
  {
   "cell_type": "code",
   "execution_count": null,
   "metadata": {
    "collapsed": false
   },
   "outputs": [],
   "source": [
    "#Define sampling region and uniform sampling function\n",
    "tmin = 0\n",
    "tmax = 50\n",
    "t_area = tmax - tmin\n",
    "t_uniform_sample = lambda N : Uniform(tmin, tmax, N)\n",
    "\n",
    "\n",
    "t_intensity = lambda t : add(2*exp((-1.0/15.0)*t), exp(-(1.0/100.)*square(subtract(t, 25))))\n",
    "t_lambda_max = 2\n",
    "\n",
    "\n",
    "#Sample from Poisson process\n",
    "t_events = sample_Poisson_process(t_intensity, t_lambda_max, t_area, t_uniform_sample)\n",
    "print \"Sampled %d events from Poisson process\" % len(t_events)"
   ]
  },
  {
   "cell_type": "markdown",
   "metadata": {},
   "source": [
    "Plot the results using a rug plot"
   ]
  },
  {
   "cell_type": "code",
   "execution_count": null,
   "metadata": {
    "collapsed": false
   },
   "outputs": [],
   "source": [
    "t = linspace(tmin, tmax, 100)\n",
    "plot(t, t_intensity(t), label='Intensity function')\n",
    "plot(array(t_events), zeros(len(t_events)), 'r+', ms=20, label='Events')  # rug plot\n",
    "legend(numpoints=1)\n"
   ]
  },
  {
   "cell_type": "markdown",
   "metadata": {},
   "source": [
    "Now we try a 2D example of our own creation"
   ]
  },
  {
   "cell_type": "code",
   "execution_count": null,
   "metadata": {
    "collapsed": false
   },
   "outputs": [],
   "source": [
    "#Define sampling region and uniform sampling function\n",
    "X_lambda_max = 20.0\n",
    "\n",
    "xmin = 0\n",
    "xmax = 10\n",
    "ymin = 0\n",
    "ymax = 10\n",
    "X_area = (xmax - xmin)*(ymax - ymin)\n",
    "X_uniform_sample = lambda N : zip(Uniform(xmin, xmax, N), Uniform(ymin, ymax, N))\n",
    "\n",
    "\n",
    "#Define intensity function\n",
    "numpy_sinusoidal_intensity = lambda x,y : (X_lambda_max/4.0)*multiply(add(1.0,sin(x)), add(1.0,sin(y)))\n",
    "numpy_quadratic_intensity_vals = lambda x,y : (X_lambda_max / (max(fabs(xmin), fabs(xmax))*max(fabs(ymin), fabs(ymax)))) * multiply(x, y)\n",
    "\n",
    "numpy_intensity = numpy_sinusoidal_intensity\n",
    "intensity = lambda event_list : array(map(lambda x : numpy_intensity(x[0], x[1]), event_list))\n"
   ]
  },
  {
   "cell_type": "markdown",
   "metadata": {},
   "source": [
    "Draw samples from the Poisson process with the given intensity function"
   ]
  },
  {
   "cell_type": "code",
   "execution_count": null,
   "metadata": {
    "collapsed": false
   },
   "outputs": [],
   "source": [
    "events = sample_Poisson_process(intensity, X_lambda_max, X_area, X_uniform_sample)\n",
    "print \"Sampled %d events from the Poisson process\" % len(events)"
   ]
  },
  {
   "cell_type": "markdown",
   "metadata": {},
   "source": [
    "PLOTS ON PLOTS ON PLOTS!!!"
   ]
  },
  {
   "cell_type": "markdown",
   "metadata": {},
   "source": [
    "First, plot just the intensity function"
   ]
  },
  {
   "cell_type": "code",
   "execution_count": null,
   "metadata": {
    "collapsed": false,
    "scrolled": true
   },
   "outputs": [],
   "source": [
    "#Plot intensity function as a heatmap\n",
    "x_grid = linspace(xmin, xmax, 100)\n",
    "y_grid = linspace(ymin, ymax, 100)\n",
    "xx,yy = meshgrid(x_grid, y_grid, indexing='ij')\n",
    "z = numpy_intensity(xx, yy)\n",
    "contourf(x_grid, y_grid, z, label='Intensity function')\n",
    "cbar = colorbar()\n",
    "cbar.set_label('Poisson process intensity')\n",
    "#savefig(figure_folder + 'intensity_function.pdf', bbox_inches='tight')"
   ]
  },
  {
   "cell_type": "markdown",
   "metadata": {},
   "source": [
    "Plot just the sampled events themselves"
   ]
  },
  {
   "cell_type": "code",
   "execution_count": null,
   "metadata": {
    "collapsed": false
   },
   "outputs": [],
   "source": [
    "#Extract the vectors of x- and y- components of the events\n",
    "x_events,y_events = zip(*events)\n",
    "\n",
    "#Generate scatterplot\n",
    "scatter(x_events, y_events, color = 'red')\n",
    "xlim([xmin, xmax])\n",
    "ylim([ymin, ymax])\n",
    "title('Sampled events')\n",
    "#savefig(figure_folder + 'sampled_events.pdf', bbox_inches='tight')"
   ]
  },
  {
   "cell_type": "markdown",
   "metadata": {},
   "source": [
    "Now construct a single plot showing the overlay of the sampled events on the underlying Poisson intensity function"
   ]
  },
  {
   "cell_type": "code",
   "execution_count": null,
   "metadata": {
    "collapsed": false
   },
   "outputs": [],
   "source": [
    "contourf(x_grid, y_grid, z, label='Intensity function')\n",
    "cbar = colorbar()\n",
    "cbar.set_label('Poisson process intensity')\n",
    "\n",
    "plot(x_events, y_events, '.r', ms=10, label='Events')\n",
    "#scatter(x_events, y_events, color='red', label='Events')\n",
    "legend(loc='lower center', bbox_to_anchor=(.5, -.20), numpoints=1)\n",
    "#savefig(figure_folder + 'intensity_function_with_sampled_events.pdf', bbox_inches='tight')"
   ]
  },
  {
   "cell_type": "markdown",
   "metadata": {},
   "source": [
    "PERFORM COX PROCESS REGRESSION HERE!!!"
   ]
  },
  {
   "cell_type": "code",
   "execution_count": null,
   "metadata": {
    "collapsed": true
   },
   "outputs": [],
   "source": []
  }
 ],
 "metadata": {
  "kernelspec": {
   "display_name": "Python 2",
   "language": "python",
   "name": "python2"
  },
  "language_info": {
   "codemirror_mode": {
    "name": "ipython",
    "version": 2
   },
   "file_extension": ".py",
   "mimetype": "text/x-python",
   "name": "python",
   "nbconvert_exporter": "python",
   "pygments_lexer": "ipython2",
   "version": "2.7.6"
  }
 },
 "nbformat": 4,
 "nbformat_minor": 0
}
