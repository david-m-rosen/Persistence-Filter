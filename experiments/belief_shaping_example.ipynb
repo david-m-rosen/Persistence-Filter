{
 "cells": [
  {
   "cell_type": "markdown",
   "metadata": {},
   "source": [
    "Load up necessary libraries"
   ]
  },
  {
   "cell_type": "code",
   "execution_count": null,
   "metadata": {
    "collapsed": true
   },
   "outputs": [],
   "source": [
    "#Persistence Filter files\n",
    "\n",
    "#Python scientific computing stuffs\n",
    "from numpy import *\n",
    "from matplotlib.pyplot import *\n",
    "%matplotlib inline\n",
    "\n",
    "#Settings for rendering TeX in MATLAB\n",
    "rc('text', usetex=True)\n",
    "\n",
    "#Plotting options\n",
    "fig_scaling = .5  #Scaling factor for figures\n",
    "figure_size = (fig_scaling * 8.0, fig_scaling*6.0)  #Figure size, in inches\n",
    "figure_folder = 'figures/'  #The folder in which to save the output\n",
    "\n",
    "#Sampling points\n",
    "t = arange(0, 6, .01)\n",
    "\n",
    "#Plotting styles\n",
    "exponential_style = '-c'\n",
    "periodic_style = '-b'\n",
    "ed_style = '-r'"
   ]
  },
  {
   "cell_type": "markdown",
   "metadata": {},
   "source": [
    "Set up example functions"
   ]
  },
  {
   "cell_type": "code",
   "execution_count": null,
   "metadata": {
    "collapsed": false
   },
   "outputs": [],
   "source": [
    "#Parameter for exponential hazard function\n",
    "rx = 1.25;\n",
    "\n",
    "#Frequency for the periodic hazard function\n",
    "omega = 2*pi;\n",
    "\n",
    "\n",
    "#Parameters for the eventually-decreasing hazard function\n",
    "r = 1.5;  #Magnitude of constant hazard rate\n",
    "a = 3.0;  #Cutoff for constant hazard rate\n",
    "c = 10.0;  #Scale parameter for decreasing region\n",
    "b = a*c - 1/r;  #Location parameter for decreasing region\n",
    "\n",
    "\n",
    "#EXPONENTIAL PRIOR\n",
    "\n",
    "#Exponential hazard function\n",
    "lx = lambda t : repeat(rx, len(t));\n",
    "#Exponential cumulative hazard function\n",
    "Lx = lambda t : rx * t;\n",
    "#Exponential survival function\n",
    "Sx = lambda t : exp(-Lx(t));\n",
    "#Exponential probability density function\n",
    "pdfx = lambda t: multiply(lx(t),  Sx(t))\n",
    "\n",
    "#PERIODIC PRIOR\n",
    "lp = lambda t : maximum(0, sin(omega*t));\n",
    "#Periodic cumulative hazard function\n",
    "Np = lambda t :  floor( (1 / (2*pi)) * omega*t);\n",
    "Lp = lambda t :  (2/omega)*Np(t) + (1/omega)*(1 - cos(minimum(pi, t*omega - 2*pi*Np(t))));\n",
    "#Periodic survival function\n",
    "Sp = lambda t: exp(-Lp(t));\n",
    "#Periodic probability density function\n",
    "pdfp = lambda t : multiply(lp(t), Sp(t))\n",
    "\n",
    "\n",
    "#EVENTUALLY-DECREASING PRIOR\n",
    "\n",
    "#Eventually-decreasing hazard function\n",
    "le = lambda t :  multiply(where(t <= a, 1.0, 0.0), r) + divide(where(t > a, 1.0, 0.0), (c*t - b));\n",
    "#Eventually-decreasing cumulative hazard function\n",
    "Le = lambda t : multiply(where(t <= a, 1.0, 0.0), r*t) + \\\n",
    "    multiply(where(t > a, 1.0, 0.0), add((1/c) * log(maximum(subtract(r*c*t, r*b), 1.0)), r*a))\n",
    "#Eventually-decreasing survival function\n",
    "Se = lambda t : exp(-Le(t)); \n",
    "#Eventually-decreasing probability density function\n",
    "pdfe = lambda t : multiply(le(t), Se(t))"
   ]
  },
  {
   "cell_type": "markdown",
   "metadata": {},
   "source": [
    "Generate plots here"
   ]
  },
  {
   "cell_type": "code",
   "execution_count": null,
   "metadata": {
    "collapsed": false
   },
   "outputs": [],
   "source": [
    "#Plot hazard functions\n",
    "figure(figsize=figure_size)\n",
    "plot(t, lx(t), exponential_style)\n",
    "plot(t, lp(t), periodic_style)\n",
    "plot(t, le(t), ed_style)\n",
    "xlabel('Time (t)')\n",
    "ylabel('\\lambda_T(t)')\n",
    "#savefig(figure_folder + 'hazard_functions.pdf', bbox_inches='tight')"
   ]
  },
  {
   "cell_type": "code",
   "execution_count": null,
   "metadata": {
    "collapsed": false
   },
   "outputs": [],
   "source": [
    "#Plot cumulative hazard functions\n",
    "figure(figsize=figure_size)\n",
    "plot(t, Lx(t), exponential_style)\n",
    "plot(t, Lp(t), periodic_style)\n",
    "plot(t, Le(t), ed_style)\n",
    "xlabel('Time (t)')\n",
    "ylabel('\\Lambda_T(t)')\n",
    "#savefig(figure_folder + 'cumulative_hazard_functions.pdf', bbox_inches='tight')"
   ]
  },
  {
   "cell_type": "code",
   "execution_count": null,
   "metadata": {
    "collapsed": false,
    "scrolled": true
   },
   "outputs": [],
   "source": [
    "#Plot survival hazard functions\n",
    "figure(figsize=figure_size)\n",
    "plot(t, Sx(t), exponential_style)\n",
    "plot(t, Sp(t), periodic_style)\n",
    "plot(t, Se(t), ed_style)\n",
    "xlabel('Time (t)')\n",
    "ylabel('S_T(t)')\n",
    "#savefig(figure_folder + 'survival_functions.pdf', bbox_inches='tight')"
   ]
  },
  {
   "cell_type": "code",
   "execution_count": null,
   "metadata": {
    "collapsed": false
   },
   "outputs": [],
   "source": [
    "#Plot probability density functions\n",
    "#Plot survival hazard functions\n",
    "figure(figsize=figure_size)\n",
    "plot(t, pdfx(t), exponential_style)\n",
    "plot(t, pdfp(t), periodic_style)\n",
    "plot(t, pdfe(t), ed_style)\n",
    "xlabel('Time (t)')\n",
    "ylabel('p_T(t)')\n",
    "#savefig(figure_folder + 'probability_density_functions.pdf', bbox_inches='tight')"
   ]
  },
  {
   "cell_type": "code",
   "execution_count": null,
   "metadata": {
    "collapsed": true
   },
   "outputs": [],
   "source": []
  }
 ],
 "metadata": {
  "kernelspec": {
   "display_name": "Python 2",
   "language": "python",
   "name": "python2"
  },
  "language_info": {
   "codemirror_mode": {
    "name": "ipython",
    "version": 2
   },
   "file_extension": ".py",
   "mimetype": "text/x-python",
   "name": "python",
   "nbconvert_exporter": "python",
   "pygments_lexer": "ipython2",
   "version": "2.7.6"
  }
 },
 "nbformat": 4,
 "nbformat_minor": 0
}
